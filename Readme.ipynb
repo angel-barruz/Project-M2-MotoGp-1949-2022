{
 "cells": [
  {
   "attachments": {
    "moto%20gp.jpg": {
     "image/jpeg": "[encoded data removed]"
    }
   },
   "cell_type": "markdown",
   "id": "c89b4efd",
   "metadata": {},
   "source": [
    "# MotoGp 1949-2022![moto%20gp.jpg](attachment:moto%20gp.jpg)"
   ]
  },
  {
   "cell_type": "markdown",
   "id": "3157dd07",
   "metadata": {},
   "source": [
    "# 👶 Status"
   ]
  },
  {
   "cell_type": "code",
   "execution_count": 7,
   "id": "2035018c",
   "metadata": {},
   "outputs": [],
   "source": [
    "# https://github.com/angel-barruz/Project-M2-MotoGp-1949-2022\n",
    "# Proyecto de Moódulo 2. Vesrsión Beta 1.5 "
   ]
  },
  {
   "cell_type": "markdown",
   "id": "c7e9a2f4",
   "metadata": {},
   "source": [
    "# 🏃 Product Description"
   ]
  },
  {
   "cell_type": "code",
   "execution_count": 9,
   "id": "eaa9962a",
   "metadata": {},
   "outputs": [],
   "source": [
    "# The project reflects an analysis of the evolution of MotoGp from 1949 to 2022.\n",
    "# The report reflects this evolution through 3 dashboards:\n",
    "    # 1 - Winners: reflects the ratios between riders' victories.\n",
    "    # 2 - Country: comparison of victories between countries.\n",
    "    # 3 - Constructors: reflects the ratio of constructors' victories."
   ]
  },
  {
   "cell_type": "markdown",
   "id": "be3f2fa7",
   "metadata": {},
   "source": [
    "# 💻 Technology stack"
   ]
  },
  {
   "cell_type": "code",
   "execution_count": 10,
   "id": "12619d2b",
   "metadata": {},
   "outputs": [],
   "source": [
    "# 1. The programming language used is Python, version 3.9:\n",
    "# - Library: pandas \n",
    "# import pandas as pd  \n",
    " # - Library: numpy\n",
    "  # import numpy as np\n",
    "\n",
    "# 2. Power BI software, Version: 2.108.997.0 64-bit. Methods used:\n",
    "    # DAX\n",
    "    # Power query\n",
    "    # Power BI Dashboard"
   ]
  },
  {
   "cell_type": "markdown",
   "id": "982952bf",
   "metadata": {},
   "source": [
    "# 💥 Core "
   ]
  },
  {
   "cell_type": "code",
   "execution_count": 11,
   "id": "7af4e5a2",
   "metadata": {},
   "outputs": [],
   "source": [
    "# The project has been developed to study the evolution of motorcycling victories from the perspective of riders, countries and constructors, in the period between 1945 and 2022."
   ]
  },
  {
   "cell_type": "markdown",
   "id": "f953f502",
   "metadata": {},
   "source": [
    "# 🙈 Usage\n"
   ]
  },
  {
   "cell_type": "code",
   "execution_count": 12,
   "id": "52193cf1",
   "metadata": {},
   "outputs": [],
   "source": [
    "# We use Python to do an analysis prior to studying the data, which we then carry out with Power BI."
   ]
  },
  {
   "cell_type": "markdown",
   "id": "8bb3be37",
   "metadata": {},
   "source": [
    "# 📁 Folder structure"
   ]
  },
  {
   "cell_type": "code",
   "execution_count": 14,
   "id": "2ae2b41e",
   "metadata": {},
   "outputs": [],
   "source": [
    "#https://github.com/angel-barruz/Project-M2-MotoGp-1949-2022"
   ]
  },
  {
   "cell_type": "code",
   "execution_count": 17,
   "id": "d5e4aaf3",
   "metadata": {},
   "outputs": [],
   "source": [
    "#├── Project M2 MotoGp 1949-2022\n",
    "    #├── .ipynb_checkpoints\n",
    "        # ├── Motogp-checkpoint.ipynb\n",
    "        # ├── Untitled-checkpoint.ipynb\n",
    "    #├── data\n",
    "        # ├── constructure-world-championship.csv\n",
    "        # ├── grand-prix-events-held.csv\n",
    "        # ├── grand-prix-race-winners.csv\n",
    "        # ├── riders.csv\n",
    "        # ├── riders-finishing-positions.csv\n",
    "        # ├── riders-info.csv\n",
    "        # ├── same-nation-podium-lockouts.csv\n",
    "    # ├── my code\n",
    "        # ├── Motogp.ipynb\n",
    "        # ├── Motogp.pbix\n",
    "    # ├── Readmy"
   ]
  },
  {
   "cell_type": "markdown",
   "id": "404d1f45",
   "metadata": {},
   "source": [
    "# 💩 ToDo"
   ]
  },
  {
   "cell_type": "code",
   "execution_count": 18,
   "id": "7ecba8b7",
   "metadata": {},
   "outputs": [],
   "source": [
    "# 1. Analizar cada una de las tablas csv en Python.\n",
    "# 2. Interpretar los datos en Power BI."
   ]
  },
  {
   "cell_type": "markdown",
   "id": "7aea2e89",
   "metadata": {},
   "source": [
    "# ℹ️ Resources"
   ]
  },
  {
   "cell_type": "code",
   "execution_count": 19,
   "id": "e5fc3d72",
   "metadata": {},
   "outputs": [],
   "source": [
    "# https://www.kaggle.com/datasets/alrizacelk/moto-gp-world-championship19492022\n",
    "\n",
    "# https://community.powerbi.com/\n",
    "\n",
    "# https://pandas.pydata.org/docs/\n",
    "\n",
    "# https://www.motogp.com/"
   ]
  },
  {
   "cell_type": "markdown",
   "id": "e14eda02",
   "metadata": {},
   "source": [
    "# 💌 Contact info\n"
   ]
  },
  {
   "cell_type": "code",
   "execution_count": 21,
   "id": "8ee9e3fc",
   "metadata": {},
   "outputs": [],
   "source": [
    "#Ángel Barruz Montalvo\n",
    "#Tel: 680 50 57 51\n",
    "#email: a.barruz@gmail.com"
   ]
  },
  {
   "cell_type": "code",
   "execution_count": null,
   "id": "650ebc1d",
   "metadata": {},
   "outputs": [],
   "source": []
  }
 ],
 "metadata": {
  "kernelspec": {
   "display_name": "Python 3 (ipykernel)",
   "language": "python",
   "name": "python3"
  },
  "language_info": {
   "codemirror_mode": {
    "name": "ipython",
    "version": 3
   },
   "file_extension": ".py",
   "mimetype": "text/x-python",
   "name": "python",
   "nbconvert_exporter": "python",
   "pygments_lexer": "ipython3",
   "version": "3.9.12"
  },
  "vscode": {
   "interpreter": {
    "hash": "06d2c9a90e6a5a4f1f017caab109e756afec92c376804c145446e6d3f09f6250"
   }
  }
 },
 "nbformat": 4,
 "nbformat_minor": 5
}
